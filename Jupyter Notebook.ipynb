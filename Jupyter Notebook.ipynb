{
    "cells": [
        {
            "cell_type": "markdown",
            "metadata": {},
            "source": "# My Jupyter Notebook on IBM Watson Studio"
        },
        {
            "cell_type": "markdown",
            "metadata": {},
            "source": "### **Frigg Halvorsen**\nData Scientist"
        },
        {
            "cell_type": "markdown",
            "metadata": {},
            "source": "#### *I am interested in data science because leveraging data to make informed decisions the future will improve in many aspects. As a former Naval Officer, I observed the power of data anaylsis in regards to efficient tactical decsion-making.*"
        },
        {
            "cell_type": "markdown",
            "metadata": {},
            "source": "### The following code will check our version of Python"
        },
        {
            "cell_type": "code",
            "execution_count": 6,
            "metadata": {},
            "outputs": [
                {
                    "name": "stdout",
                    "output_type": "stream",
                    "text": "Python Version : \n3.9.12 (main, Apr  5 2022, 06:56:58) \n[GCC 7.5.0]\nVersion Info : \nsys.version_info(major=3, minor=9, micro=12, releaselevel='final', serial=0)\n"
                }
            ],
            "source": "import sys\nprint(\"Python Version : \")\nprint (sys.version)\nprint(\"Version Info : \")\nprint (sys.version_info)"
        },
        {
            "cell_type": "markdown",
            "metadata": {},
            "source": "# Sectors of interest:\n1. Economics\n2. Cryptocurrency\n3. Fintech\n4. Business Analytics\n5. Video Games\n7. NFTs\n    "
        },
        {
            "cell_type": "code",
            "execution_count": null,
            "metadata": {},
            "outputs": [],
            "source": ""
        }
    ],
    "metadata": {
        "kernelspec": {
            "display_name": "Python 3.9",
            "language": "python",
            "name": "python3"
        },
        "language_info": {
            "codemirror_mode": {
                "name": "ipython",
                "version": 3
            },
            "file_extension": ".py",
            "mimetype": "text/x-python",
            "name": "python",
            "nbconvert_exporter": "python",
            "pygments_lexer": "ipython3",
            "version": "3.9.12"
        }
    },
    "nbformat": 4,
    "nbformat_minor": 1
}